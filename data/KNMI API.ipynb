{
 "cells": [
  {
   "cell_type": "markdown",
   "metadata": {},
   "source": [
    "# KNMI weather data via API"
   ]
  },
  {
   "cell_type": "markdown",
   "metadata": {},
   "source": [
    "#### Find a how-to guide\n",
    "The developer portal has a how-to: https://developer.dataplatform.knmi.nl/get-started\n",
    "\n",
    "#### Pick which catalogue you need\n",
    "https://dataplatform.knmi.nl/catalog/index.html\n",
    "\n",
    "I need this one:\n",
    "Meteo data - daily quality controlled climate data knmi, the netherlands\n",
    "\n",
    "#### Obtain the API key\n",
    "Available till 25 May 2021\n",
    "\n",
    "5e554e19274a9600012a3eb1b626f95624124cf89e9b5d74c3304520\n",
    "\n",
    "50 requests per minute, 3000 requests per hour\n",
    "\n",
    "#### KNMI-code\n",
    "how to list files in dataset:\n",
    "https://api.dataplatform.knmi.nl/open-data/v1/datasets/{datasetName}/versions/{versionId}/files\n",
    "\n",
    "how to get download for a file in the dataset:\n",
    "https://api.dataplatform.knmi.nl/open-data/v1/datasets/{datasetName}/versions/{versionId}/files/{filename}/url\n"
   ]
  },
  {
   "cell_type": "code",
   "execution_count": 83,
   "metadata": {},
   "outputs": [],
   "source": [
    "import requests\n",
    "import json \n",
    "import pandas as pd\n",
    "from pandas import json_normalize\n",
    "from netCDF4 import Dataset\n",
    "import numpy as np\n",
    "import datetime"
   ]
  },
  {
   "cell_type": "markdown",
   "metadata": {},
   "source": [
    "#### Getting the key in the API - documentation\n",
    "https://www.digitalocean.com/community/tutorials/getting-started-with-python-requests-get-requests "
   ]
  },
  {
   "cell_type": "code",
   "execution_count": 6,
   "metadata": {},
   "outputs": [
    {
     "data": {
      "text/plain": [
       "<Response [200]>"
      ]
     },
     "execution_count": 6,
     "metadata": {},
     "output_type": "execute_result"
    }
   ],
   "source": [
    "API_KEY = '5e554e19274a9600012a3eb1b626f95624124cf89e9b5d74c3304520'\n",
    "response = requests.get('https://api.dataplatform.knmi.nl/open-data/v1/datasets/etmaalgegevensKNMIstations/versions/1/files', \n",
    "                        headers ={'Authorization': API_KEY})\n",
    "\n",
    "response #[429] too many requests - wait between requests"
   ]
  },
  {
   "cell_type": "code",
   "execution_count": 9,
   "metadata": {},
   "outputs": [
    {
     "data": {
      "text/plain": [
       "{'maxResults': 10,\n",
       " 'resultCount': 1,\n",
       " 'startAfterFilename': '',\n",
       " 'files': [{'filename': 'KIS___OPER_P___OBS_____L2.nc',\n",
       "   'size': 3842242,\n",
       "   'lastModified': '2021-05-14T12:00:45+00:00'}],\n",
       " 'isTruncated': False}"
      ]
     },
     "execution_count": 9,
     "metadata": {},
     "output_type": "execute_result"
    }
   ],
   "source": [
    "results = response.json()\n",
    "results"
   ]
  },
  {
   "cell_type": "code",
   "execution_count": 11,
   "metadata": {},
   "outputs": [
    {
     "data": {
      "text/html": [
       "<div>\n",
       "<style scoped>\n",
       "    .dataframe tbody tr th:only-of-type {\n",
       "        vertical-align: middle;\n",
       "    }\n",
       "\n",
       "    .dataframe tbody tr th {\n",
       "        vertical-align: top;\n",
       "    }\n",
       "\n",
       "    .dataframe thead th {\n",
       "        text-align: right;\n",
       "    }\n",
       "</style>\n",
       "<table border=\"1\" class=\"dataframe\">\n",
       "  <thead>\n",
       "    <tr style=\"text-align: right;\">\n",
       "      <th></th>\n",
       "      <th>maxResults</th>\n",
       "      <th>resultCount</th>\n",
       "      <th>startAfterFilename</th>\n",
       "      <th>files</th>\n",
       "      <th>isTruncated</th>\n",
       "    </tr>\n",
       "  </thead>\n",
       "  <tbody>\n",
       "    <tr>\n",
       "      <th>0</th>\n",
       "      <td>10</td>\n",
       "      <td>1</td>\n",
       "      <td></td>\n",
       "      <td>{'filename': 'KIS___OPER_P___OBS_____L2.nc', '...</td>\n",
       "      <td>False</td>\n",
       "    </tr>\n",
       "  </tbody>\n",
       "</table>\n",
       "</div>"
      ],
      "text/plain": [
       "   maxResults  resultCount startAfterFilename  \\\n",
       "0          10            1                      \n",
       "\n",
       "                                               files  isTruncated  \n",
       "0  {'filename': 'KIS___OPER_P___OBS_____L2.nc', '...        False  "
      ]
     },
     "execution_count": 11,
     "metadata": {},
     "output_type": "execute_result"
    }
   ],
   "source": [
    "data = pd.DataFrame(results)\n",
    "data.head()"
   ]
  },
  {
   "cell_type": "code",
   "execution_count": 29,
   "metadata": {},
   "outputs": [
    {
     "data": {
      "text/plain": [
       "{'filename': 'KIS___OPER_P___OBS_____L2.nc',\n",
       " 'size': 3842242,\n",
       " 'lastModified': '2021-05-14T12:00:45+00:00'}"
      ]
     },
     "execution_count": 29,
     "metadata": {},
     "output_type": "execute_result"
    }
   ],
   "source": [
    "data[\"files\"][0]"
   ]
  },
  {
   "cell_type": "code",
   "execution_count": 3,
   "metadata": {
    "scrolled": true
   },
   "outputs": [
    {
     "data": {
      "text/plain": [
       "<class 'netCDF4._netCDF4.Variable'>\n",
       "vlen station(station)\n",
       "    long_name: station name\n",
       "    cf_role: timeseries_id\n",
       "vlen data type: <class 'str'>\n",
       "unlimited dimensions: \n",
       "current shape = (50,)"
      ]
     },
     "execution_count": 3,
     "metadata": {},
     "output_type": "execute_result"
    }
   ],
   "source": [
    "nc_data = Dataset('KIS___OPER_P___OBS_____L2.nc')"
   ]
  },
  {
   "cell_type": "code",
   "execution_count": 4,
   "metadata": {},
   "outputs": [
    {
     "name": "stdout",
     "output_type": "stream",
     "text": [
      "<class 'netCDF4._netCDF4.Dataset'>\n",
      "root group (NETCDF4 data model, file format HDF5):\n",
      "    featureType: timeSeries\n",
      "    Conventions: CF-1.4\n",
      "    title: KIS___OPER_P___OBS_____L2\n",
      "    institution: Royal Netherlands Meteorological Institute (KNMI)\n",
      "    source: Royal Netherlands Meteorological Institute (KNMI)\n",
      "    history: File created from KIS ASCII file. \n",
      "    references: http://data.knmi.nl\n",
      "    comment: none\n",
      "    dimensions(sizes): station(50), time(25701)\n",
      "    variables(dimensions): <class 'str'> station(station), float64 time(time), float64 lat(station), float64 lon(station), int16 DDVEC(station, time), int16 FHVEC(station, time), int16 TG(station, time), int16 RH(station, time), int16 UG(station, time), int16 EV24(station, time), int16 PG(station, time), |S1 iso_dataset(), |S1 product(), |S1 projection()\n",
      "    groups: \n"
     ]
    }
   ],
   "source": [
    "print(nc_data)"
   ]
  },
  {
   "cell_type": "code",
   "execution_count": 6,
   "metadata": {},
   "outputs": [
    {
     "data": {
      "text/plain": [
       "dict_keys(['station', 'time', 'lat', 'lon', 'DDVEC', 'FHVEC', 'TG', 'RH', 'UG', 'EV24', 'PG', 'iso_dataset', 'product', 'projection'])"
      ]
     },
     "execution_count": 6,
     "metadata": {},
     "output_type": "execute_result"
    }
   ],
   "source": [
    "#check out the keys\n",
    "nc_data.variables.keys()"
   ]
  },
  {
   "cell_type": "code",
   "execution_count": 125,
   "metadata": {},
   "outputs": [
    {
     "name": "stdout",
     "output_type": "stream",
     "text": [
      "station name \t\t\t units: no units attribute\n",
      "time of measurement \t\t units: seconds since 1950-01-01 00:00:00\n",
      "station  latitude \t\t units: degrees_north\n",
      "station longitude \t\t units: degrees_east\n",
      "Vector average wind direction \t units: degree\n",
      "Vector average wind speed \t units: m/s\n",
      "Temperature \t\t\t units: degrees Celsius\n",
      "Precipitation sum \t\t units: mm\n",
      "Relative humidity \t\t units: %\n",
      "Reference crop evapotranspiration (Makkink) \t units: mm\n",
      "Air pressure at sea level \t units: hPa\n",
      "ADAGUC Data Products Standard\n"
     ]
    }
   ],
   "source": [
    "#how to get the long name of the dict keys, \n",
    "print(nc_data.variables['station'].long_name,  '\\t\\t\\t units: no units attribute')\n",
    "print(nc_data.variables['time'].long_name, '\\t\\t units:' , nc_data.variables['time'].units)\n",
    "print(nc_data.variables['lat'].long_name, '\\t\\t units:' , nc_data.variables['lat'].units)\n",
    "print(nc_data.variables['lon'].long_name , '\\t\\t units:' , nc_data.variables['lon'].units)\n",
    "print(nc_data.variables['DDVEC'].long_name , '\\t units:' , nc_data.variables['DDVEC'].units)\n",
    "print(nc_data.variables['FHVEC'].long_name , '\\t units:' , nc_data.variables['FHVEC'].units)\n",
    "print(nc_data.variables['TG'].long_name, '\\t\\t\\t units:' , nc_data.variables['TG'].units)\n",
    "print(nc_data.variables['RH'].long_name, '\\t\\t units:' , nc_data.variables['RH'].units)\n",
    "print(nc_data.variables['UG'].long_name, '\\t\\t units:' , nc_data.variables['UG'].units)\n",
    "print(nc_data.variables['EV24'].long_name, '\\t units:' , nc_data.variables['EV24'].units)\n",
    "print(nc_data.variables['PG'].long_name, '\\t units:' , nc_data.variables['PG'].units)\n",
    "#print(nc_data.variables['iso_dataset'].long_name)\n",
    "print(nc_data.variables['product'].long_name)\n",
    "#print(nc_data.variables['projection'].long_name)"
   ]
  },
  {
   "cell_type": "code",
   "execution_count": 119,
   "metadata": {},
   "outputs": [],
   "source": [
    "# select the variables you need (and rename unclear names) \n",
    "station = nc_data.variables['station']\n",
    "time = nc_data.variables['time']\n",
    "lat = nc_data.variables['lat']\n",
    "lon = nc_data.variables['lon']\n",
    "wind_dir = nc_data.variables['DDVEC']\n",
    "wind_spd = nc_data.variables['FHVEC']\n",
    "temp = nc_data.variables['TG']\n",
    "rain = nc_data.variables['RH']"
   ]
  },
  {
   "cell_type": "code",
   "execution_count": 120,
   "metadata": {},
   "outputs": [
    {
     "name": "stdout",
     "output_type": "stream",
     "text": [
      "('station', 'time')\n",
      "('station', 'time')\n",
      "('station', 'time')\n",
      "('station', 'time')\n",
      "('station',)\n",
      "('station',)\n",
      "('station',)\n",
      "('time',)\n"
     ]
    }
   ],
   "source": [
    "#check out the dimensions of variables\n",
    "print(temp.dimensions)\n",
    "print(wind_dir.dimensions)\n",
    "print(wind_spd.dimensions)\n",
    "print(rain.dimensions)\n",
    "print(station.dimensions)\n",
    "print(lon.dimensions)\n",
    "print(lat.dimensions)\n",
    "print(time.dimensions)"
   ]
  },
  {
   "cell_type": "code",
   "execution_count": 128,
   "metadata": {},
   "outputs": [],
   "source": [
    "# now save all data in the variable in the variable you created before\n",
    "# select everything by --> [:]\n",
    "station = nc_data.variables['station'][:]\n",
    "time = nc_data.variables['time'][:]\n",
    "lat = nc_data.variables['lat'][:]\n",
    "lon = nc_data.variables['lon'][:]\n",
    "wind_dir = nc_data.variables['DDVEC'][:]\n",
    "wind_spd = nc_data.variables['FHVEC'][:]\n",
    "temp = nc_data.variables['TG'][:]\n",
    "rain = nc_data.variables['RH'][:]"
   ]
  },
  {
   "cell_type": "code",
   "execution_count": 134,
   "metadata": {},
   "outputs": [
    {
     "name": "stdout",
     "output_type": "stream",
     "text": [
      "['391' '370' '331' '315' '324' '375' '380' '240' '286' '310' '283' '280'\n",
      " '273' '323' '249' '377' '316' '313' '277' '348' '308' '319' '215' '278'\n",
      " '285' '343' '225' '330' '267' '269' '344' '275' '235' '257' '290' '350'\n",
      " '251' '210' '248' '279' '258' '356' '209' '265' '312' '340' '260' '270'\n",
      " '311' '242']\n"
     ]
    },
    {
     "data": {
      "text/plain": [
       "{'De Bilt': 260,\n",
       " 'Twente': 290,\n",
       " 'Eelde': 280,\n",
       " 'Lauwersoog': 277,\n",
       " 'Lelystad': 269,\n",
       " 'Den Helder': '?',\n",
       " 'Hoek van Holland': 330,\n",
       " 'Vlissingen': 310,\n",
       " 'Ell': 377,\n",
       " 'Arcen': 391}"
      ]
     },
     "execution_count": 134,
     "metadata": {},
     "output_type": "execute_result"
    }
   ],
   "source": [
    "print(station)\n",
    "\n",
    "#stations are in numbers. On this site are the names belonging to the numbers: https://www.knmi.nl/nederland-nu/klimatologie/daggegevens\n",
    "# I need stations: # De Bilt Twente Eelde Lauwersoog Lelystad Den Helder Hoek van Holland Vlissingen  Ell Arcen \n",
    "#Den Helder is not in the list.. which is weird..\n",
    "\n",
    "my_stations ={\"De Bilt\" : 260, \"Twente\" : 290, \"Eelde\": 280, \"Lauwersoog\": 277, \"Lelystad\": 269, \"Den Helder\": '?' , \"Hoek van Holland\": 330, \"Vlissingen\": 310, \"Ell\": 377, \"Arcen\": 391}\n",
    "my_stations\n"
   ]
  },
  {
   "cell_type": "code",
   "execution_count": 50,
   "metadata": {},
   "outputs": [
    {
     "data": {
      "text/plain": [
       "masked_array(data=[3.1536000e+07, 3.1622400e+07, 3.1708800e+07, ...,\n",
       "                   2.2518432e+09, 2.2519296e+09, 2.2520160e+09],\n",
       "             mask=False,\n",
       "       fill_value=1e+20)"
      ]
     },
     "execution_count": 50,
     "metadata": {},
     "output_type": "execute_result"
    }
   ],
   "source": [
    "time"
   ]
  },
  {
   "cell_type": "markdown",
   "metadata": {},
   "source": [
    "### Convert dates to seconds from 1950"
   ]
  },
  {
   "cell_type": "code",
   "execution_count": 118,
   "metadata": {},
   "outputs": [
    {
     "name": "stdout",
     "output_type": "stream",
     "text": [
      "Range of seconds between first and last day of 2018: 2156313600.0 till 2156976000.0\n",
      "Start date of 2021 in seconds since 1950:  2250921600.0\n"
     ]
    }
   ],
   "source": [
    "# The KNMI dataset contains information about a lot of days. \n",
    "# Calculate the time-range you need, based on seconds since 1950-01-01 00:00:00\n",
    "# The race ends 8 days and 18h later. I'll just take 9 full days as a range\n",
    "\n",
    "start_2018 = datetime.datetime(2018, 5, 1, 8)\n",
    "end_2018 = datetime.datetime(2018, 5, 9)\n",
    "\n",
    "start_2019 = datetime.datetime(2019, 5, 1, 8)\n",
    "end_2019 = datetime.datetime(2019, 5, 9)\n",
    "\n",
    "start_2020 = datetime.datetime(2020, 8, 29, 8)\n",
    "end_2020 = datetime.datetime(2020, 9, 6)\n",
    "\n",
    "start_2021 = datetime.datetime(2021, 4, 30, 8)\n",
    "end_2021 = datetime.datetime(2021, 5, 9)\n",
    "\n",
    "def date_sec(date):\n",
    "    \"\"\"\n",
    "    input: a datetime object\n",
    "    output: the number of seconds passed between 19501010 00:00:00 and the given datetime\n",
    "    \"\"\"\n",
    "    #seconds in a year: 365 days * 24h * 60min * 60 sec = 31536000 seconds.\n",
    "    #seconds in a 'schrikkel'year = 366 * 24 * 60 * 60 = 31622400 seconds.\n",
    "    \n",
    "    knmi_start = datetime.datetime(1950, 1, 1)\n",
    "    passed_seconds = (date - knmi_start).total_seconds()\n",
    "    return (passed_seconds)\n",
    "\n",
    "\n",
    "\n",
    "print(\"Range of seconds between first and last day of 2018:\", date_sec(start_2018), 'till', date_sec(end_2018))\n",
    "print(\"Start date of 2021 in seconds since 1950: \", date_sec(start_2021))\n"
   ]
  },
  {
   "cell_type": "code",
   "execution_count": null,
   "metadata": {},
   "outputs": [],
   "source": []
  },
  {
   "cell_type": "code",
   "execution_count": null,
   "metadata": {},
   "outputs": [],
   "source": [
    "# example code \n",
    "# tutorial: https://www.youtube.com/watch?v=hrm5RmsVXo0\n",
    "\n",
    "# lat = data.variables['lat'][:]\n",
    "# lon = data.variables['lon'][:]\n",
    "\n",
    "# min_index_lat --> calculates the lat-value you want to use\n",
    "# min_index_lon --> calculates the lon-value you want to use\n",
    "\n",
    "# temp = data.variables[\"temp\"]\n",
    "\n",
    "# #create dataframe\n",
    "# starting_date  = something\n",
    "# ending_date = something else\n",
    "\n",
    "# date_range = pd.date_range(start = starting_date, end = ending_date)\n",
    "\n",
    "# # create dataframe with the length pf the date_range filled with  0's\n",
    "# df = pd.DataFrame(0, columns = [\"temp\"], index = date_range)\n",
    "\n",
    "# #creates a series with the size of the temp values\n",
    "# dt = np.arange(0, data.variables['temp'].size) \n",
    "\n",
    "# #puts the temperatures that belong to the right lat&lon in the df\n",
    "# for i in dt:\n",
    "#     df.iloc[i] = temp[i, min_index_lat, min_index_lon]\n",
    "# df    \n",
    "    "
   ]
  },
  {
   "cell_type": "code",
   "execution_count": null,
   "metadata": {},
   "outputs": [],
   "source": []
  },
  {
   "cell_type": "code",
   "execution_count": null,
   "metadata": {},
   "outputs": [],
   "source": []
  },
  {
   "cell_type": "code",
   "execution_count": null,
   "metadata": {},
   "outputs": [],
   "source": []
  },
  {
   "cell_type": "code",
   "execution_count": null,
   "metadata": {},
   "outputs": [],
   "source": []
  },
  {
   "cell_type": "code",
   "execution_count": 81,
   "metadata": {},
   "outputs": [
    {
     "data": {
      "text/plain": [
       "<class 'netCDF4._netCDF4.Variable'>\n",
       "float64 time(time)\n",
       "    long_name: time of measurement\n",
       "    standard_name: time\n",
       "    units: seconds since 1950-01-01 00:00:00\n",
       "unlimited dimensions: \n",
       "current shape = (25701,)\n",
       "filling on, default _FillValue of 9.969209968386869e+36 used"
      ]
     },
     "execution_count": 81,
     "metadata": {},
     "output_type": "execute_result"
    }
   ],
   "source": [
    "nc_data.variables['time']"
   ]
  },
  {
   "cell_type": "code",
   "execution_count": null,
   "metadata": {},
   "outputs": [],
   "source": []
  },
  {
   "cell_type": "code",
   "execution_count": null,
   "metadata": {},
   "outputs": [],
   "source": []
  },
  {
   "cell_type": "code",
   "execution_count": null,
   "metadata": {},
   "outputs": [],
   "source": []
  },
  {
   "cell_type": "code",
   "execution_count": null,
   "metadata": {},
   "outputs": [],
   "source": []
  },
  {
   "cell_type": "code",
   "execution_count": null,
   "metadata": {},
   "outputs": [],
   "source": []
  },
  {
   "cell_type": "code",
   "execution_count": null,
   "metadata": {},
   "outputs": [],
   "source": [
    "#alternative way: give all data for this variable\n",
    "\n",
    "time_data = nc_data.variables['time'][:]\n",
    "time_data"
   ]
  },
  {
   "cell_type": "code",
   "execution_count": 40,
   "metadata": {},
   "outputs": [],
   "source": [
    "temp_data = nc_data.variables['TG'][:]\n",
    "# temp_data\n",
    "#or use (result is the same):\n",
    "temp_dt = temp[:]\n",
    "# temp_dt"
   ]
  },
  {
   "cell_type": "code",
   "execution_count": null,
   "metadata": {},
   "outputs": [],
   "source": []
  },
  {
   "cell_type": "code",
   "execution_count": null,
   "metadata": {},
   "outputs": [],
   "source": []
  },
  {
   "cell_type": "code",
   "execution_count": null,
   "metadata": {},
   "outputs": [],
   "source": []
  },
  {
   "cell_type": "code",
   "execution_count": null,
   "metadata": {},
   "outputs": [],
   "source": []
  },
  {
   "cell_type": "markdown",
   "metadata": {},
   "source": [
    "variables(dimensions): \n",
    "<class 'str'> station(station), \n",
    "float64 time(time), \n",
    "float64 lat(station), \n",
    "float64 lon(station), \n",
    "int16 DDVEC(station, time), \n",
    "int16 FHVEC(station, time), \n",
    "int16 TG(station, time), \n",
    "int16 RH(station, time), \n",
    "int16 UG(station, time), \n",
    "int16 EV24(station, time), \n",
    "int16 PG(station, time), \n",
    "|S1 iso_dataset(), \n",
    "|S1 product(),\n",
    "|S1 projection()"
   ]
  },
  {
   "cell_type": "code",
   "execution_count": null,
   "metadata": {},
   "outputs": [],
   "source": [
    "nc_data.variables['station']"
   ]
  },
  {
   "cell_type": "markdown",
   "metadata": {},
   "source": [
    "PYCURL https://stackabuse.com/using-curl-in-python-with-pycurl/\n",
    "on curl: https://medium.com/@MissAmaraKay/what-is-curl-and-why-is-it-all-over-api-docs-b141c33805e0\n",
    "python requests: https://www.digitalocean.com/community/tutorials/getting-started-with-python-requests-get-requests\n",
    "KNMI API als package: https://pypi.org/project/knmi-py/\n",
    "KNMI example scripts: https://developer.dataplatform.knmi.nl/example-scripts#list-10-current-files-get-first"
   ]
  }
 ],
 "metadata": {
  "kernelspec": {
   "display_name": "Python 3",
   "language": "python",
   "name": "python3"
  },
  "language_info": {
   "codemirror_mode": {
    "name": "ipython",
    "version": 3
   },
   "file_extension": ".py",
   "mimetype": "text/x-python",
   "name": "python",
   "nbconvert_exporter": "python",
   "pygments_lexer": "ipython3",
   "version": "3.8.5"
  }
 },
 "nbformat": 4,
 "nbformat_minor": 4
}
