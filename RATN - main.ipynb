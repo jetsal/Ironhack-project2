{
 "cells": [
  {
   "cell_type": "markdown",
   "metadata": {},
   "source": [
    "# Race Around The Netherlands - main\n",
    "\n",
    "The webscraping is done in jupyter notebooks in the data-folder. They result in 5 csv-files:\n",
    "the leaderboards for 2018, 2019, 2020 and 2021 each have a csv, and so has the age of the 2021 riders.\n",
    "\n",
    "In this notebook the csv's are imported, and the different years are concatenated"
   ]
  },
  {
   "cell_type": "code",
   "execution_count": 1,
   "metadata": {},
   "outputs": [],
   "source": [
    "import pandas as pd\n",
    "import numpy as np"
   ]
  },
  {
   "cell_type": "code",
   "execution_count": 5,
   "metadata": {},
   "outputs": [],
   "source": [
    "df_2018 = pd.read_csv('C:/Users/jetsa/Ironhack-project2/data/all_riders_2018.csv')\n",
    "# df_2019 = pd.read_csv('C:/Users/jetsa/Ironhack-project2/data/all_riders_2019.csv')\n",
    "df_2020 = pd.read_csv('C:/Users/jetsa/Ironhack-project2/data/all_riders_2020.csv')\n",
    "df_2021 = pd.read_csv('C:/Users/jetsa/Ironhack-project2/data/all_riders_2021.csv')\n",
    "\n",
    "ages_2021 = pd.read_csv(C:/Users/jetsa/Ironhack-project2/data/riders2021_name_age.csv')"
   ]
  },
  {
   "cell_type": "code",
   "execution_count": null,
   "metadata": {},
   "outputs": [],
   "source": [
    "ratn = pd.concat([df_2018, df_2019, df_2020, df_2021]).reset_index()\n",
    "ratn = ratn.drop(ratn.columns[0], axis=1)\n",
    "pd.set_option('display.max_rows', ratn.shape[0]+1)\n",
    "ratn"
   ]
  },
  {
   "cell_type": "markdown",
   "metadata": {},
   "source": [
    "#### Append ages to the 2021 riders"
   ]
  },
  {
   "cell_type": "code",
   "execution_count": 7,
   "metadata": {},
   "outputs": [],
   "source": [
    "# create a new, column in the ratn dataframe (with eg all zero's). \n",
    "# loop over the columns: \n",
    "# if firstname and lastname are the same in both files, \n",
    "# fill the age column in the ratn-df with the age in the ages_2021-df\n",
    "# else the age column should remain empty ('')"
   ]
  },
  {
   "cell_type": "code",
   "execution_count": null,
   "metadata": {},
   "outputs": [],
   "source": []
  }
 ],
 "metadata": {
  "kernelspec": {
   "display_name": "Python 3",
   "language": "python",
   "name": "python3"
  },
  "language_info": {
   "codemirror_mode": {
    "name": "ipython",
    "version": 3
   },
   "file_extension": ".py",
   "mimetype": "text/x-python",
   "name": "python",
   "nbconvert_exporter": "python",
   "pygments_lexer": "ipython3",
   "version": "3.8.5"
  }
 },
 "nbformat": 4,
 "nbformat_minor": 4
}
