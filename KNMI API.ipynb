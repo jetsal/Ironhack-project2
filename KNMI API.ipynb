{
 "cells": [
  {
   "cell_type": "markdown",
   "metadata": {},
   "source": [
    "# KNMI weather data via API"
   ]
  },
  {
   "cell_type": "markdown",
   "metadata": {},
   "source": [
    "#### Find a how-to guide\n",
    "The developer portal has a how-to: https://developer.dataplatform.knmi.nl/get-started\n",
    "\n",
    "#### Pick which catalogue you need\n",
    "https://dataplatform.knmi.nl/catalog/index.html\n",
    "\n",
    "I need this one:\n",
    "Meteo data - daily quality controlled climate data knmi, the netherlands\n",
    "\n",
    "#### Obtain the API key\n",
    "Available till 25 May 2021\n",
    "\n",
    "5e554e19274a9600012a3eb1b626f95624124cf89e9b5d74c3304520\n",
    "\n",
    "50 requests per minute, 3000 requests per hour\n",
    "\n",
    "#### KNMI-code\n",
    "list files in dataset:\n",
    "https://api.dataplatform.knmi.nl/open-data/v1/datasets/{datasetName}/versions/{versionId}/files\n",
    "\n",
    "get download for a file in the dataset:\n",
    "https://api.dataplatform.knmi.nl/open-data/v1/datasets/{datasetName}/versions/{versionId}/files/{filename}/url\n",
    "\n"
   ]
  },
  {
   "cell_type": "code",
   "execution_count": 80,
   "metadata": {},
   "outputs": [],
   "source": [
    "import requests\n",
    "from requests.auth import HTTPBasicAuth\n",
    "import curl\n",
    "import json \n",
    "import pandas as pd\n",
    "from pandas import json_normalize"
   ]
  },
  {
   "cell_type": "markdown",
   "metadata": {},
   "source": [
    "#### Getting the key in the API - documentation\n",
    "https://www.digitalocean.com/community/tutorials/getting-started-with-python-requests-get-requests "
   ]
  },
  {
   "cell_type": "code",
   "execution_count": 25,
   "metadata": {},
   "outputs": [],
   "source": [
    "API_KEY = '5e554e19274a9600012a3eb1b626f95624124cf89e9b5d74c3304520'\n",
    "params = dict(key=API_KEY)\n",
    "\n",
    "#list files in dataset\n",
    "response = requests.get('https://api.dataplatform.knmi.nl/open-data/datasets/etmaalgegevensKNMIstations/versions/1/files', params=params)\n",
    "data = response.json()"
   ]
  },
  {
   "cell_type": "code",
   "execution_count": 26,
   "metadata": {},
   "outputs": [
    {
     "data": {
      "text/plain": [
       "<Response [401]>"
      ]
     },
     "execution_count": 26,
     "metadata": {},
     "output_type": "execute_result"
    }
   ],
   "source": [
    "response"
   ]
  },
  {
   "cell_type": "code",
   "execution_count": 17,
   "metadata": {},
   "outputs": [
    {
     "data": {
      "text/html": [
       "<div>\n",
       "<style scoped>\n",
       "    .dataframe tbody tr th:only-of-type {\n",
       "        vertical-align: middle;\n",
       "    }\n",
       "\n",
       "    .dataframe tbody tr th {\n",
       "        vertical-align: top;\n",
       "    }\n",
       "\n",
       "    .dataframe thead th {\n",
       "        text-align: right;\n",
       "    }\n",
       "</style>\n",
       "<table border=\"1\" class=\"dataframe\">\n",
       "  <thead>\n",
       "    <tr style=\"text-align: right;\">\n",
       "      <th></th>\n",
       "      <th>error</th>\n",
       "    </tr>\n",
       "  </thead>\n",
       "  <tbody>\n",
       "    <tr>\n",
       "      <th>0</th>\n",
       "      <td>Authorization field missing</td>\n",
       "    </tr>\n",
       "  </tbody>\n",
       "</table>\n",
       "</div>"
      ],
      "text/plain": [
       "                         error\n",
       "0  Authorization field missing"
      ]
     },
     "execution_count": 17,
     "metadata": {},
     "output_type": "execute_result"
    }
   ],
   "source": [
    "files = json_normalize(data);\n",
    "files.head()"
   ]
  },
  {
   "cell_type": "code",
   "execution_count": 91,
   "metadata": {},
   "outputs": [
    {
     "data": {
      "text/plain": [
       "<Response [403]>"
      ]
     },
     "execution_count": 91,
     "metadata": {},
     "output_type": "execute_result"
    }
   ],
   "source": [
    "response = requests.get('https://api.dataplatform.knmi.nl/open-data/datasets/etmaalgegevensKNMIstations/versions/1/files', \n",
    "                        auth = ('user', API_KEY))\n",
    "\n",
    "response"
   ]
  },
  {
   "cell_type": "code",
   "execution_count": 85,
   "metadata": {},
   "outputs": [
    {
     "ename": "SyntaxError",
     "evalue": "invalid syntax (<ipython-input-85-3c8f0f9a83c9>, line 1)",
     "output_type": "error",
     "traceback": [
      "\u001b[1;36m  File \u001b[1;32m\"<ipython-input-85-3c8f0f9a83c9>\"\u001b[1;36m, line \u001b[1;32m1\u001b[0m\n\u001b[1;33m    curl --location --request GET \\\u001b[0m\n\u001b[1;37m                              ^\u001b[0m\n\u001b[1;31mSyntaxError\u001b[0m\u001b[1;31m:\u001b[0m invalid syntax\n"
     ]
    }
   ],
   "source": [
    "#voorbeeld op KNMI pagina\n",
    "curl --location --request GET \\\n",
    "\"https://api.dataplatform.knmi.nl/open-data/v1/datasets/Actuele10mindataKNMIstations/versions/2/files\" \\\n",
    "--header \"Authorization: API_KEY\""
   ]
  },
  {
   "cell_type": "markdown",
   "metadata": {},
   "source": [
    "PYCURL https://stackabuse.com/using-curl-in-python-with-pycurl/\n",
    "on curl: https://medium.com/@MissAmaraKay/what-is-curl-and-why-is-it-all-over-api-docs-b141c33805e0\n",
    "python requests: https://www.digitalocean.com/community/tutorials/getting-started-with-python-requests-get-requests\n",
    "KNMI API als package: https://pypi.org/project/knmi-py/\n",
    "KNMI example scripts: https://developer.dataplatform.knmi.nl/example-scripts#list-10-current-files-get-first"
   ]
  }
 ],
 "metadata": {
  "kernelspec": {
   "display_name": "Python 3",
   "language": "python",
   "name": "python3"
  },
  "language_info": {
   "codemirror_mode": {
    "name": "ipython",
    "version": 3
   },
   "file_extension": ".py",
   "mimetype": "text/x-python",
   "name": "python",
   "nbconvert_exporter": "python",
   "pygments_lexer": "ipython3",
   "version": "3.8.5"
  }
 },
 "nbformat": 4,
 "nbformat_minor": 4
}
